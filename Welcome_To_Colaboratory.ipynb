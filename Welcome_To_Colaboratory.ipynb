{
  "cells": [
    {
      "cell_type": "markdown",
      "metadata": {
        "id": "view-in-github",
        "colab_type": "text"
      },
      "source": [
        "<a href=\"https://colab.research.google.com/github/thaiquocphong/BasicCode/blob/main/Welcome_To_Colaboratory.ipynb\" target=\"_parent\"><img src=\"https://colab.research.google.com/assets/colab-badge.svg\" alt=\"Open In Colab\"/></a>"
      ]
    },
    {
      "cell_type": "markdown",
      "source": [
        "Bài tập lập trình 1 về biến và hằng số:"
      ],
      "metadata": {
        "id": "Ogm_dl-nUSk9"
      }
    },
    {
      "cell_type": "code",
      "source": [
        "print(\"Chương trình tính tiền hàng hóa:\")\n",
        "\n",
        "# Khai báo và gán các biến số\n",
        "Soluong = 0\n",
        "Dongia = 0\n",
        "Thanhtien = 0\n",
        "\n",
        "# Nhập liệu\n",
        "Soluong = int(input(\"Bạn hãy nhập số lượng hàng hóa:\"))\n",
        "Dongia = int(input(\"Bạn hãy nhập đơn giá bán:\"))\n",
        "\n",
        "# Tính tiền\n",
        "Thanhtien = Soluong * Dongia\n",
        "\n",
        "# In kết quả tính tiền ra màn hình\n",
        "print(\"Số tiền hàng hóa tính được là:\", Thanhtien)\n"
      ],
      "metadata": {
        "id": "CVPkto4NUWSy"
      },
      "execution_count": null,
      "outputs": []
    },
    {
      "cell_type": "markdown",
      "source": [
        "Bài tập lập trình 2 về biến và hằng số"
      ],
      "metadata": {
        "id": "3QcKtQytUXWx"
      }
    },
    {
      "cell_type": "code",
      "source": [
        "print(\"CHƯƠNG TRÌNH ĐỔI NHIỆT ĐỘ C SANG ĐỘ F:\")\n",
        "\n",
        "# Khai báo và gán các biến số\n",
        "NhietdoC = 0\n",
        "NhietdoF = 0\n",
        "\n",
        "# Nhập liệu\n",
        "NhietdoC = int(input(\"Bạn hãy nhập nhiệt độ C:\"))\n",
        "\n",
        "# Tính toán\n",
        "NhietdoF = 9/5 * NhietdoC + 32\n",
        "\n",
        "# In kết quả tính tiền ra màn hình\n",
        "print(\"Nhiệt độ C là \", NhietdoC, \"thì chuyển sang độ F là: \", NhietdoF)"
      ],
      "metadata": {
        "id": "SQJAh02ZUa-t"
      },
      "execution_count": null,
      "outputs": []
    }
  ],
  "metadata": {
    "colab": {
      "name": "Welcome To Colaboratory",
      "toc_visible": true,
      "provenance": [],
      "include_colab_link": true
    },
    "kernelspec": {
      "display_name": "Python 3",
      "name": "python3"
    }
  },
  "nbformat": 4,
  "nbformat_minor": 0
}